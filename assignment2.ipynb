{
 "cells": [
  {
   "cell_type": "code",
   "execution_count": 3,
   "id": "67169669-83ff-4030-b651-5b2e64631551",
   "metadata": {},
   "outputs": [
    {
     "name": "stdout",
     "output_type": "stream",
     "text": [
      "My name is tarun chand\n"
     ]
    }
   ],
   "source": [
    "name = (\"my name is tarun chand\") # string starts with capital letter.\n",
    "capitalized = str.capitalize(name)\n",
    "print(capitalized)"
   ]
  },
  {
   "cell_type": "code",
   "execution_count": 5,
   "id": "28bee4fb-cbfe-4081-9579-512c6e9d011a",
   "metadata": {},
   "outputs": [
    {
     "name": "stdout",
     "output_type": "stream",
     "text": [
      "i m from uttarakhand\n"
     ]
    }
   ],
   "source": [
    "address = (\"i m from uttarakhand\") # string starts with casefold letter.\n",
    "casefold = str.casefold(address) \n",
    "print(casefold)"
   ]
  },
  {
   "cell_type": "code",
   "execution_count": 7,
   "id": "dc4d59c1-a4d6-48d3-a0d9-5a386d19f790",
   "metadata": {},
   "outputs": [
    {
     "name": "stdout",
     "output_type": "stream",
     "text": [
      "$$$Hello, World!$$$$\n"
     ]
    }
   ],
   "source": [
    " \n",
    "Name = \"Tarun chand\"  #It puts your string in the middle.Adds characters (usually spaces) on both sides so that the total length becomes equal to width.\n",
    "width = 20\n",
    "centered_text = text.center(width, \"$\")\n",
    "print(centered_text)\n"
   ]
  },
  {
   "cell_type": "code",
   "execution_count": 12,
   "id": "a77a7604-79c3-47d4-977d-b78c43b01707",
   "metadata": {},
   "outputs": [
    {
     "name": "stdout",
     "output_type": "stream",
     "text": [
      "The substring data analyst appears 2 times in the text.\n"
     ]
    }
   ],
   "source": [
    "string = \"Hello,i m preparing for data analyst. data analyst is a job profile!\"\n",
    "substring = \"data analyst\"\n",
    "\n",
    "count = string.count(substring)\n",
    "print(f\"The substring {substring} appears {count} times in the text.\")\n"
   ]
  },
  {
   "cell_type": "code",
   "execution_count": 3,
   "id": "22422fc7-7302-4a3c-8f21-4340dc7247c5",
   "metadata": {},
   "outputs": [
    {
     "name": "stdout",
     "output_type": "stream",
     "text": [
      "tarun   chand\n"
     ]
    }
   ],
   "source": [
    "s = \"tarun\\tchand\"\n",
    "print(s.expandtabs(4))\n",
    "# Output: 'a   b   c'\n"
   ]
  },
  {
   "cell_type": "code",
   "execution_count": 12,
   "id": "dabf5d50-bf6c-4d61-a2a2-440114e3b211",
   "metadata": {},
   "outputs": [
    {
     "name": "stdout",
     "output_type": "stream",
     "text": [
      "0\n"
     ]
    }
   ],
   "source": [
    "str = \"tarun\"  # it finds the string index\n",
    "print(s.find(\"t\"))\n"
   ]
  },
  {
   "cell_type": "code",
   "execution_count": 15,
   "id": "86ed5bcd-a2ae-420e-98e6-1495a3bd49ea",
   "metadata": {},
   "outputs": [
    {
     "name": "stdout",
     "output_type": "stream",
     "text": [
      "i am tarun\n"
     ]
    }
   ],
   "source": [
    "string = \"i am {}\".format(\"tarun\")\n",
    "print(string)\n"
   ]
  },
  {
   "cell_type": "code",
   "execution_count": null,
   "id": "d37de8df-063d-49d5-ab65-8a8ddb52ea05",
   "metadata": {},
   "outputs": [],
   "source": [
    "data = {\"name\": \"Bob\"}\n",
    "print(\"hi {name}\".format_map(data))   #it is used for dictionary \n",
    "\n"
   ]
  },
  {
   "cell_type": "code",
   "execution_count": null,
   "id": "e24c1519-ec2f-4b7b-9ecd-f32108e56090",
   "metadata": {},
   "outputs": [],
   "source": [
    "string = \"hello\"\n",
    "print(string.index(\"e\"))\n",
    "\n"
   ]
  },
  {
   "cell_type": "code",
   "execution_count": null,
   "id": "8c42be75-65b6-4be3-bf2b-ac80c79a8ddb",
   "metadata": {},
   "outputs": [],
   "source": [
    "string = \"abc123\"\n",
    "print(string.isalnum())\n",
    "\n"
   ]
  },
  {
   "cell_type": "code",
   "execution_count": null,
   "id": "7ca988eb-3f42-46c8-b437-510cc2929a3d",
   "metadata": {},
   "outputs": [],
   "source": [
    "string = \"abc\"\n",
    "print(string.isalpha())\n",
    "# Output: True\n"
   ]
  },
  {
   "cell_type": "code",
   "execution_count": 16,
   "id": "a2b101ee-b93d-4377-9ce0-eec4e61d0719",
   "metadata": {},
   "outputs": [
    {
     "name": "stdout",
     "output_type": "stream",
     "text": [
      "True\n"
     ]
    }
   ],
   "source": [
    "string = \"hello\"\n",
    "print(string.isascii()) # it check if the string is printable if yes then it return true otherwise false\n",
    "\n"
   ]
  },
  {
   "cell_type": "code",
   "execution_count": 17,
   "id": "c90d71d7-b29b-4fc0-b32e-15abfbcf617a",
   "metadata": {},
   "outputs": [
    {
     "name": "stdout",
     "output_type": "stream",
     "text": [
      "True\n"
     ]
    }
   ],
   "source": [
    "string = \"123\"\n",
    "print(string.isdecimal())\n",
    "# Output: True\n"
   ]
  },
  {
   "cell_type": "code",
   "execution_count": 19,
   "id": "1652274c-c30b-4c81-8f3e-bb6b24bb90ab",
   "metadata": {},
   "outputs": [
    {
     "name": "stdout",
     "output_type": "stream",
     "text": [
      "True\n"
     ]
    }
   ],
   "source": [
    "string = \"²3\"\n",
    "print(string.isdigit())   #it check all the number in string are digit\n",
    "\n"
   ]
  },
  {
   "cell_type": "code",
   "execution_count": null,
   "id": "67d86596-0c01-400a-acf8-cfa408d32347",
   "metadata": {},
   "outputs": [],
   "source": [
    "string = \"variable_name\"\n",
    "print(string.isidentifier())\n",
    "# Output: True\n"
   ]
  },
  {
   "cell_type": "code",
   "execution_count": null,
   "id": "68b4116c-7379-4b5e-bca2-a62a6a92d823",
   "metadata": {},
   "outputs": [],
   "source": [
    "string = \"hello\"\n",
    "print(string.islower())\n",
    "\n"
   ]
  },
  {
   "cell_type": "code",
   "execution_count": null,
   "id": "f7dfb2cc-6d7a-40c7-9fcf-c06a253f1ea4",
   "metadata": {},
   "outputs": [],
   "source": [
    "string = \"Ⅻ\"\n",
    "print(string.isnumeric())\n",
    "\n"
   ]
  },
  {
   "cell_type": "code",
   "execution_count": null,
   "id": "7880f315-0475-4fe0-8e74-9f27522858e7",
   "metadata": {},
   "outputs": [],
   "source": [
    "string = \"abc\\n\"\n",
    "print(string.isprintable())\n",
    "\n"
   ]
  },
  {
   "cell_type": "code",
   "execution_count": null,
   "id": "a0a1846d-e265-43c6-bbb6-7a6bb9b1141e",
   "metadata": {},
   "outputs": [],
   "source": [
    "string = \"   \"\n",
    "print(string.isspace())\n",
    "\n"
   ]
  },
  {
   "cell_type": "code",
   "execution_count": null,
   "id": "ebd74059-c108-4af6-802a-8ca2a035dc44",
   "metadata": {},
   "outputs": [],
   "source": [
    "string = \"Hello World\"\n",
    "print(string.istitle())\n",
    "\n"
   ]
  },
  {
   "cell_type": "code",
   "execution_count": null,
   "id": "d7936e56-7a11-46f2-9458-b2183dd42cc9",
   "metadata": {},
   "outputs": [],
   "source": [
    "string = \"HELLO\"\n",
    "print(string.isupper())\n",
    "\n"
   ]
  },
  {
   "cell_type": "code",
   "execution_count": null,
   "id": "f5e01b19-a2fd-4649-b8d4-39c6339cfcfe",
   "metadata": {},
   "outputs": [],
   "source": []
  },
  {
   "cell_type": "code",
   "execution_count": null,
   "id": "f1c7c636-8c8b-41ed-8f1d-4bef2a74e9ff",
   "metadata": {},
   "outputs": [],
   "source": []
  },
  {
   "cell_type": "code",
   "execution_count": null,
   "id": "1c54af02-0096-4643-b0d7-796c416101b6",
   "metadata": {},
   "outputs": [],
   "source": []
  }
 ],
 "metadata": {
  "kernelspec": {
   "display_name": "Python 3 (ipykernel)",
   "language": "python",
   "name": "python3"
  },
  "language_info": {
   "codemirror_mode": {
    "name": "ipython",
    "version": 3
   },
   "file_extension": ".py",
   "mimetype": "text/x-python",
   "name": "python",
   "nbconvert_exporter": "python",
   "pygments_lexer": "ipython3",
   "version": "3.13.2"
  }
 },
 "nbformat": 4,
 "nbformat_minor": 5
}
